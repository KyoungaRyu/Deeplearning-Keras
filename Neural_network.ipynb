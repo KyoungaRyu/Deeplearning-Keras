{
  "nbformat": 4,
  "nbformat_minor": 0,
  "metadata": {
    "colab": {
      "name": "Neural_network.ipynb",
      "provenance": [],
      "collapsed_sections": [],
      "include_colab_link": true
    },
    "kernelspec": {
      "name": "python3",
      "display_name": "Python 3"
    },
    "accelerator": "GPU"
  },
  "cells": [
    {
      "cell_type": "markdown",
      "metadata": {
        "id": "view-in-github",
        "colab_type": "text"
      },
      "source": [
        "<a href=\"https://colab.research.google.com/github/KyoungaRyu/deeplearning-Keras/blob/master/Neural_network.ipynb\" target=\"_parent\"><img src=\"https://colab.research.google.com/assets/colab-badge.svg\" alt=\"Open In Colab\"/></a>"
      ]
    },
    {
      "cell_type": "markdown",
      "metadata": {
        "id": "hVV_dowuuRAp",
        "colab_type": "text"
      },
      "source": [
        "**Keras 데이터셋 적재**"
      ]
    },
    {
      "cell_type": "code",
      "metadata": {
        "id": "6AwhcICYuM54",
        "colab_type": "code",
        "outputId": "e911fc58-019b-4333-f45e-223857c1cda6",
        "colab": {
          "base_uri": "https://localhost:8080/",
          "height": 55
        }
      },
      "source": [
        "from keras.datasets import mnist \n",
        "(train_images, train_labels), (test_images, test_labels) = mnist.load_data()"
      ],
      "execution_count": 6,
      "outputs": [
        {
          "output_type": "stream",
          "text": [
            "Downloading data from https://s3.amazonaws.com/img-datasets/mnist.npz\n",
            "11493376/11490434 [==============================] - 0s 0us/step\n"
          ],
          "name": "stdout"
        }
      ]
    },
    {
      "cell_type": "code",
      "metadata": {
        "id": "uwf4BslmqKj2",
        "colab_type": "code",
        "colab": {}
      },
      "source": [
        "from keras import models\n",
        "from keras import layers"
      ],
      "execution_count": 0,
      "outputs": []
    },
    {
      "cell_type": "code",
      "metadata": {
        "id": "nt8HQ3y-uh_Z",
        "colab_type": "code",
        "colab": {}
      },
      "source": [
        "network = models.Sequential()\n",
        "network.add(layers.Dense(512, activation='relu', input_shape=(28*28,)))\n",
        "network.add(layers.BatchNormalization())\n",
        "network.add(layers.Dropout(0.5))\n",
        "network.add(layers.Dense(256, activation='relu', ))\n",
        "network.add(layers.BatchNormalization())\n",
        "network.add(layers.Dropout(0.5))\n",
        "network.add(layers.Dense(128, activation='relu', ))\n",
        "network.add(layers.BatchNormalization())\n",
        "network.add(layers.Dropout(0.5))\n",
        "network.add(layers.Dense(10, activation='softmax'))"
      ],
      "execution_count": 0,
      "outputs": []
    },
    {
      "cell_type": "markdown",
      "metadata": {
        "id": "ccuAbIeNreUN",
        "colab_type": "text"
      },
      "source": [
        "이미지 데이터 준비\n",
        "\n",
        "*#이미지의 경우 픽셀의 최댓값인 255로 나누어 사용*"
      ]
    },
    {
      "cell_type": "code",
      "metadata": {
        "id": "5J63MMWaxbZm",
        "colab_type": "code",
        "colab": {}
      },
      "source": [
        "train_images = train_images.reshape((60000, 28*28))\n",
        "train_images = train_images.astype('float32')/ 255\n",
        "\n",
        "test_images = test_images.reshape((10000, 28*28))\n",
        "test_images = test_images.astype('float32')/255"
      ],
      "execution_count": 0,
      "outputs": []
    },
    {
      "cell_type": "code",
      "metadata": {
        "id": "75_dRGVnvJB5",
        "colab_type": "code",
        "outputId": "59f3e72f-4eb6-428f-bce0-defda7467736",
        "colab": {
          "base_uri": "https://localhost:8080/",
          "height": 131
        }
      },
      "source": [
        "network.compile(optimizer='Adam', loss= 'binary_crossentropy',\n",
        "               metrics=['accuracy'])"
      ],
      "execution_count": 13,
      "outputs": [
        {
          "output_type": "stream",
          "text": [
            "WARNING:tensorflow:From /usr/local/lib/python3.6/dist-packages/keras/backend/tensorflow_backend.py:3657: The name tf.log is deprecated. Please use tf.math.log instead.\n",
            "\n",
            "WARNING:tensorflow:From /usr/local/lib/python3.6/dist-packages/tensorflow_core/python/ops/nn_impl.py:183: where (from tensorflow.python.ops.array_ops) is deprecated and will be removed in a future version.\n",
            "Instructions for updating:\n",
            "Use tf.where in 2.0, which has the same broadcast rule as np.where\n"
          ],
          "name": "stdout"
        }
      ]
    },
    {
      "cell_type": "markdown",
      "metadata": {
        "id": "HNNsqLV-rxE6",
        "colab_type": "text"
      },
      "source": [
        "레이블 준비"
      ]
    },
    {
      "cell_type": "code",
      "metadata": {
        "id": "qPc8tkW4y1I_",
        "colab_type": "code",
        "colab": {}
      },
      "source": [
        "from keras.utils import to_categorical\n",
        "\n",
        "train_labels = to_categorical(train_labels)\n",
        "test_labels = to_categorical(test_labels)"
      ],
      "execution_count": 0,
      "outputs": []
    },
    {
      "cell_type": "code",
      "metadata": {
        "id": "s36xzsxHNHoY",
        "colab_type": "code",
        "colab": {}
      },
      "source": [
        "import tensorflow as tf\n",
        "tf.compat.v1.logging.set_verbosity(tf.compat.v1.logging.ERROR)"
      ],
      "execution_count": 0,
      "outputs": []
    },
    {
      "cell_type": "markdown",
      "metadata": {
        "id": "9Ws9jnqMsEpq",
        "colab_type": "text"
      },
      "source": [
        "모델 학습, epoch = 5(5번 반복)"
      ]
    },
    {
      "cell_type": "code",
      "metadata": {
        "id": "CwShFDuJ3XZY",
        "colab_type": "code",
        "colab": {
          "base_uri": "https://localhost:8080/",
          "height": 223
        },
        "outputId": "35dfe2d0-144e-46a5-c6c3-6e1cb16b301e"
      },
      "source": [
        "network.fit(train_images, train_labels, epochs=5, batch_size=128)"
      ],
      "execution_count": 16,
      "outputs": [
        {
          "output_type": "stream",
          "text": [
            "Epoch 1/5\n",
            "60000/60000 [==============================] - 12s 195us/step - loss: 0.0848 - acc: 0.9708\n",
            "Epoch 2/5\n",
            "60000/60000 [==============================] - 6s 105us/step - loss: 0.0398 - acc: 0.9868\n",
            "Epoch 3/5\n",
            "60000/60000 [==============================] - 6s 104us/step - loss: 0.0316 - acc: 0.9896\n",
            "Epoch 4/5\n",
            "60000/60000 [==============================] - 6s 104us/step - loss: 0.0273 - acc: 0.9910\n",
            "Epoch 5/5\n",
            "60000/60000 [==============================] - 6s 108us/step - loss: 0.0244 - acc: 0.9920\n"
          ],
          "name": "stdout"
        },
        {
          "output_type": "execute_result",
          "data": {
            "text/plain": [
              "<keras.callbacks.History at 0x7fc6d6c6b438>"
            ]
          },
          "metadata": {
            "tags": []
          },
          "execution_count": 16
        }
      ]
    },
    {
      "cell_type": "code",
      "metadata": {
        "id": "XfH6-X73sLBW",
        "colab_type": "code",
        "colab": {
          "base_uri": "https://localhost:8080/",
          "height": 55
        },
        "outputId": "5db84c1a-7ef6-42d9-f1e8-7d774b8b3cb3"
      },
      "source": [
        "test_loss, test_acc = network.evaluate(test_images, test_labels)\n",
        "print('test_acc:', test_acc)"
      ],
      "execution_count": 17,
      "outputs": [
        {
          "output_type": "stream",
          "text": [
            "10000/10000 [==============================] - 1s 94us/step\n",
            "test_acc: 0.9948699960708618\n"
          ],
          "name": "stdout"
        }
      ]
    },
    {
      "cell_type": "markdown",
      "metadata": {
        "id": "FHUYBbLN080f",
        "colab_type": "text"
      },
      "source": [
        "**Schalar(0D)/Vector(1D)/Matrix(2D)/ 3D Tensor**"
      ]
    },
    {
      "cell_type": "code",
      "metadata": {
        "id": "0BOV7jmq0R6Y",
        "colab_type": "code",
        "colab": {}
      },
      "source": [
        "import numpy as np\n",
        "x = np.array(12)"
      ],
      "execution_count": 0,
      "outputs": []
    },
    {
      "cell_type": "code",
      "metadata": {
        "id": "YAadfgJz1cea",
        "colab_type": "code",
        "colab": {}
      },
      "source": [
        "x = np.array([[5, 78, 2, 34, 0],\n",
        "            [6, 79, 3, 35, 1],\n",
        "            [7, 80, 4, 36, 2]])"
      ],
      "execution_count": 0,
      "outputs": []
    },
    {
      "cell_type": "code",
      "metadata": {
        "id": "Km6x0Ej_347y",
        "colab_type": "code",
        "colab": {}
      },
      "source": [
        "x = np.array([[[5, 78, 2, 34, 0],\n",
        "              [6, 79, 3, 35, 1],\n",
        "              [7, 80, 4, 36, 2]],\n",
        "             [[5, 78, 2, 34, 0],\n",
        "             [6, 79, 3, 35, 1],\n",
        "             [7, 80, 4, 36, 2]],\n",
        "             [[5, 78, 2, 34, 0],\n",
        "             [6, 79, 3, 35, 1],\n",
        "             [7, 80, 4, 36, 2]]])"
      ],
      "execution_count": 0,
      "outputs": []
    }
  ]
}