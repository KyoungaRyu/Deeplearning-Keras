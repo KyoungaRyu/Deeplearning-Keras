{
  "nbformat": 4,
  "nbformat_minor": 0,
  "metadata": {
    "colab": {
      "name": "Neural network.ipynb",
      "provenance": [],
      "collapsed_sections": [],
      "include_colab_link": true
    },
    "kernelspec": {
      "name": "python3",
      "display_name": "Python 3"
    },
    "accelerator": "GPU"
  },
  "cells": [
    {
      "cell_type": "markdown",
      "metadata": {
        "id": "view-in-github",
        "colab_type": "text"
      },
      "source": [
        "<a href=\"https://colab.research.google.com/github/KyoungaRyu/Deeplearning-Keras/blob/master/Neural_network.ipynb\" target=\"_parent\"><img src=\"https://colab.research.google.com/assets/colab-badge.svg\" alt=\"Open In Colab\"/></a>"
      ]
    },
    {
      "cell_type": "markdown",
      "metadata": {
        "id": "hVV_dowuuRAp",
        "colab_type": "text"
      },
      "source": [
        "**2.Neural Network**"
      ]
    },
    {
      "cell_type": "code",
      "metadata": {
        "id": "6AwhcICYuM54",
        "colab_type": "code",
        "colab": {
          "base_uri": "https://localhost:8080/",
          "height": 36
        },
        "outputId": "9346d18d-aefa-4a21-8e36-f8b4f351af12"
      },
      "source": [
        "from keras.datasets import mnist \n",
        "(train_images, train_labels), (test_images, test_labels) = mnist.load_data()"
      ],
      "execution_count": 0,
      "outputs": [
        {
          "output_type": "stream",
          "text": [
            "Using TensorFlow backend.\n"
          ],
          "name": "stderr"
        }
      ]
    },
    {
      "cell_type": "code",
      "metadata": {
        "id": "5J63MMWaxbZm",
        "colab_type": "code",
        "colab": {}
      },
      "source": [
        "train_images = train_images.reshape((60,000, 28*28))\n",
        "train_images = train_images.astype('float32')/ 255\n",
        "\n",
        "test_images = test_images.reshape((10,000, 28*28))\n",
        "test_images = test_images.astype('float32')/255"
      ],
      "execution_count": 0,
      "outputs": []
    },
    {
      "cell_type": "code",
      "metadata": {
        "id": "nt8HQ3y-uh_Z",
        "colab_type": "code",
        "colab": {}
      },
      "source": [
        "from keras import models\n",
        "from keras import layers\n",
        "\n",
        "network = models.Sequential()\n",
        "network.add(layers.Dense(512, activation='relu', input_shape=(28 * 28,)))\n",
        "network.add(layers.Dense(10, activation= 'softmax'))"
      ],
      "execution_count": 0,
      "outputs": []
    },
    {
      "cell_type": "code",
      "metadata": {
        "id": "75_dRGVnvJB5",
        "colab_type": "code",
        "colab": {}
      },
      "source": [
        "network.compile(optimizer='rmsprop',\n",
        "               loss= 'categorical_crossentropy',\n",
        "               metrics=['accuracy'])"
      ],
      "execution_count": 0,
      "outputs": []
    },
    {
      "cell_type": "code",
      "metadata": {
        "id": "CwShFDuJ3XZY",
        "colab_type": "code",
        "colab": {}
      },
      "source": [
        "network.fit(train_images, train_labels, epochs=5, batch_size=128)"
      ],
      "execution_count": 0,
      "outputs": []
    },
    {
      "cell_type": "code",
      "metadata": {
        "id": "qPc8tkW4y1I_",
        "colab_type": "code",
        "colab": {}
      },
      "source": [
        "from keras.utils import to_categorical\n",
        "\n",
        "train_labels = to_categorical(train_labels)\n",
        "test_labels = to_categorical(test_labels)"
      ],
      "execution_count": 0,
      "outputs": []
    },
    {
      "cell_type": "markdown",
      "metadata": {
        "id": "FHUYBbLN080f",
        "colab_type": "text"
      },
      "source": [
        "**Schalar(0D)/Vector(1D)/Matrix(2D)/ 3D Tensor**"
      ]
    },
    {
      "cell_type": "code",
      "metadata": {
        "id": "0BOV7jmq0R6Y",
        "colab_type": "code",
        "colab": {}
      },
      "source": [
        "import numpy as np\n",
        "x = np.array(12)"
      ],
      "execution_count": 0,
      "outputs": []
    },
    {
      "cell_type": "code",
      "metadata": {
        "id": "YAadfgJz1cea",
        "colab_type": "code",
        "colab": {}
      },
      "source": [
        "x = np.array([[5, 78, 2, 34, 0],\n",
        "            [6, 79, 3, 35, 1],\n",
        "            [7, 80, 4, 36, 2]])"
      ],
      "execution_count": 0,
      "outputs": []
    },
    {
      "cell_type": "code",
      "metadata": {
        "id": "Km6x0Ej_347y",
        "colab_type": "code",
        "colab": {}
      },
      "source": [
        "x = np.array([[[5, 78, 2, 34, 0],\n",
        "              [6, 79, 3, 35, 1],\n",
        "              [7, 80, 4, 36, 2]],\n",
        "             [[5, 78, 2, 34, 0],\n",
        "             [6, 79, 3, 35, 1],\n",
        "             [7, 80, 4, 36, 2]],\n",
        "             [[5, 78, 2, 34, 0],\n",
        "             [6, 79, 3, 35, 1],\n",
        "             [7, 80, 4, 36, 2]]])"
      ],
      "execution_count": 0,
      "outputs": []
    },
    {
      "cell_type": "code",
      "metadata": {
        "id": "mdm7mfuV4t5U",
        "colab_type": "code",
        "colab": {}
      },
      "source": [
        ""
      ],
      "execution_count": 0,
      "outputs": []
    }
  ]
}